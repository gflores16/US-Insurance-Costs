{
 "cells": [
  {
   "cell_type": "markdown",
   "metadata": {},
   "source": [
    "# U.S. Medical Insurance Costs\n",
    "\n",
    "## Scope\n",
    "\n",
    "In this notebook we will be analyzing the data gathered from individuals across the United States compiled in insurance.csv. The data includes their age, sex, BMI, their region in the United States, whether the individual has children, smokes, and their insurance cost. This notebook will mostly consists of goals suggested by Codecademy, but I will be adding more analysis as I move through the Data Scientist path. \n",
    "\n",
    "## Goals \n",
    "\n",
    "* Find out the average age of the patients in the dataset\n",
    "* Analyze where a majority of the individuals are from\n",
    "* Look at the different costs between smokers vs. non-smokers\n",
    "* Figure out what the average age is for someone who has at least one child in this dataset\n",
    "\n",
    "----------------------\n",
    "\n",
    "### Importing and Organizing Data \n",
    "I start by importing the csv library, followed by creating variables for all 7 keys, and consequently importing and appending the datapoints respectively. This will help me with some of the goals listed above. "
   ]
  },
  {
   "cell_type": "code",
   "execution_count": 1,
   "metadata": {},
   "outputs": [],
   "source": [
    "import csv"
   ]
  },
  {
   "cell_type": "code",
   "execution_count": 2,
   "metadata": {},
   "outputs": [],
   "source": [
    "age = []\n",
    "sex = []\n",
    "bmi = []\n",
    "children = []\n",
    "smoker = []\n",
    "region = []\n",
    "charges = []"
   ]
  },
  {
   "cell_type": "code",
   "execution_count": 3,
   "metadata": {},
   "outputs": [],
   "source": [
    "with open('insurance.csv', newline = '') as insurance_csv:\n",
    "    insurance_data = csv.DictReader(insurance_csv)\n",
    "    for row in insurance_data:\n",
    "        age.append(row['age'])\n",
    "        sex.append(row['sex'])\n",
    "        bmi.append(row['bmi'])\n",
    "        children.append(row['children'])\n",
    "        smoker.append(row['smoker'])\n",
    "        region.append(row['region'])\n",
    "        charges.append(row['charges'])"
   ]
  },
  {
   "cell_type": "markdown",
   "metadata": {},
   "source": [
    "In the line below I checked that all my lists are complete, since it was stated in Codecademy that there was no missing data. I can't assume I will be able to utilize this line on other projets. "
   ]
  },
  {
   "cell_type": "code",
   "execution_count": 4,
   "metadata": {},
   "outputs": [
    {
     "name": "stdout",
     "output_type": "stream",
     "text": [
      "True\n"
     ]
    }
   ],
   "source": [
    "print(len(age) == len(sex) == len(bmi) == len(children) == len(smoker) == len(region) == len(charges))"
   ]
  },
  {
   "cell_type": "markdown",
   "metadata": {},
   "source": [
    "---------\n",
    "### Average Amount of Numerical Categories\n",
    "\n",
    "Even though we wanted to find the average age of individuals, the function created below can also help us find the average amount of children and charge per individual. "
   ]
  },
  {
   "cell_type": "code",
   "execution_count": 5,
   "metadata": {},
   "outputs": [
    {
     "name": "stdout",
     "output_type": "stream",
     "text": [
      "39.20702541106129\n",
      "1.0949177877429\n",
      "13270.422265141257\n"
     ]
    }
   ],
   "source": [
    "def average_category(factor):\n",
    "    total_factor = 0\n",
    "    for x in factor:\n",
    "        total_factor += float(x)\n",
    "    avg_factor = total_factor / len(factor)\n",
    "    return avg_factor\n",
    "\n",
    "print((average_category(age)))\n",
    "print((average_category(children)))\n",
    "print((average_category(charges)))"
   ]
  },
  {
   "cell_type": "markdown",
   "metadata": {},
   "source": [
    "- The average age of our individuals is 39\n",
    "- The average number of children per individual is 1\n",
    "- The average charge for insurance per individual is $13,270.42"
   ]
  },
  {
   "cell_type": "markdown",
   "metadata": {},
   "source": [
    "----------\n",
    "### Region by Number of Individuals\n",
    "\n",
    "Below we will determine how many individuals from our data live in each region of the United States using 2 methods. \n",
    "\n",
    "#### Method 1\n",
    "\n",
    "The first method could be used if we already knew what regions are included in the data."
   ]
  },
  {
   "cell_type": "code",
   "execution_count": 6,
   "metadata": {},
   "outputs": [
    {
     "name": "stdout",
     "output_type": "stream",
     "text": [
      "There are 324 individuals from the Northeast, 325 from the Northwest, 364 from the Southeast, and 325 from the Southwest\n"
     ]
    }
   ],
   "source": [
    "def majority_region(location):\n",
    "    northeast = 0\n",
    "    northwest = 0\n",
    "    southeast = 0\n",
    "    southwest = 0\n",
    "    for x in location: \n",
    "        if x == 'northeast':\n",
    "            northeast += 1\n",
    "        if x == 'northwest':\n",
    "            northwest += 1\n",
    "        if x == 'southeast':\n",
    "            southeast += 1\n",
    "        if x == 'southwest':\n",
    "            southwest += 1\n",
    "    return('There are {ne} individuals from the Northeast, {nw} from the Northwest, {se} from the Southeast, and {sw} from the Southwest'.format(ne=northeast, nw=northwest, se=southeast, sw=southwest))\n",
    "\n",
    "print(majority_region(region))"
   ]
  },
  {
   "cell_type": "markdown",
   "metadata": {},
   "source": [
    "#### Method 2\n",
    "This second method would be used if we didn't know the regions ahead of time, we needed to find them in the data, and avoid repeating any."
   ]
  },
  {
   "cell_type": "code",
   "execution_count": 7,
   "metadata": {},
   "outputs": [
    {
     "name": "stdout",
     "output_type": "stream",
     "text": [
      "{'southwest': 325, 'southeast': 364, 'northwest': 325, 'northeast': 324}\n"
     ]
    }
   ],
   "source": [
    "region_count = {}\n",
    "for place in region:\n",
    "    if place not in region_count:\n",
    "        region_count[place] = 1\n",
    "    else:\n",
    "        region_count[place] += 1\n",
    "\n",
    "print(region_count)"
   ]
  },
  {
   "cell_type": "markdown",
   "metadata": {},
   "source": [
    "-------\n",
    "### Difference in Cost between Smoker and Sex\n",
    "\n",
    "This is a simple comparison between sex and smokers, and the insurance cost difference between each. "
   ]
  },
  {
   "cell_type": "code",
   "execution_count": 8,
   "metadata": {},
   "outputs": [
    {
     "name": "stdout",
     "output_type": "stream",
     "text": [
      "There are 676 males and 662 females in our data.\n"
     ]
    }
   ],
   "source": [
    "male = 0\n",
    "female = 0\n",
    "for x in sex: \n",
    "    if x == 'male':\n",
    "        male += 1 \n",
    "    else:\n",
    "        female +=1 \n",
    "print('There are {male} males and {female} females in our data.'.format(male = male, female = female))"
   ]
  },
  {
   "cell_type": "code",
   "execution_count": 9,
   "metadata": {},
   "outputs": [
    {
     "name": "stdout",
     "output_type": "stream",
     "text": [
      "There are 274 smokers and 1064 non-smokers in our data.\n"
     ]
    }
   ],
   "source": [
    "smoker_count = 0\n",
    "non_smoker_count = 0\n",
    "for x in smoker: \n",
    "    if x == 'yes':\n",
    "        smoker_count += 1 \n",
    "    else:\n",
    "        non_smoker_count +=1 \n",
    "print('There are {smoker_count} smokers and {non_smoker_count} non-smokers in our data.'.format(smoker_count = smoker_count, non_smoker_count = non_smoker_count))\n",
    "    \n",
    "    "
   ]
  },
  {
   "cell_type": "code",
   "execution_count": 10,
   "metadata": {},
   "outputs": [
    {
     "name": "stdout",
     "output_type": "stream",
     "text": [
      "if sex: male, individual pays on average $13956.75.\n",
      "if sex: female, individual pays on average $12569.58.\n",
      "The difference depending on sex is $1387.17.\n",
      "if smoker: yes, individual pays on average $32050.23.\n",
      "if smoker: no, individual pays on average $8434.27.\n",
      "The difference depending on smoker is $23615.96.\n"
     ]
    }
   ],
   "source": [
    "def comparing_avg_costs(group_cost, factor1, factor2):\n",
    "    with open('insurance.csv') as file: \n",
    "        f_dict = csv.DictReader(file)\n",
    "        factor1_total_charge = 0\n",
    "        factor1_total = 0\n",
    "        factor2_total_charge = 0\n",
    "        factor2_total = 0 \n",
    "        for row in f_dict:\n",
    "            if row[group_cost] == factor1:\n",
    "                factor1_total_charge += float(row['charges'])\n",
    "                factor1_total += 1 \n",
    "            elif row[group_cost] == factor2:\n",
    "                factor2_total_charge += float(row['charges'])\n",
    "                factor2_total += 1 \n",
    "                \n",
    "        avg_factor1_cost = round(factor1_total_charge / factor1_total, 2)   \n",
    "        avg_factor2_cost = round(factor2_total_charge / factor2_total, 2)\n",
    "        difference_cost = avg_factor1_cost - avg_factor2_cost\n",
    "        \n",
    "        print ('if {group_cost}: {factor1}, individual pays on average ${avg_factor1_cost}.'.format(group_cost=group_cost, factor1=factor1, avg_factor1_cost=avg_factor1_cost))\n",
    "        print ('if {group_cost}: {factor2}, individual pays on average ${avg_factor2_cost}.'.format(group_cost=group_cost, factor2=factor2, avg_factor2_cost=avg_factor2_cost))\n",
    "        print ('The difference depending on {group_cost} is ${difference_cost}.'.format(group_cost=group_cost, difference_cost=difference_cost))\n",
    "        \n",
    "diff_sex = comparing_avg_costs('sex', 'male', 'female')\n",
    "diff_smoker = comparing_avg_costs('smoker', 'yes', 'no')\n",
    "\n"
   ]
  }
 ],
 "metadata": {
  "interpreter": {
   "hash": "aee8b7b246df8f9039afb4144a1f6fd8d2ca17a180786b69acc140d282b71a49"
  },
  "kernelspec": {
   "display_name": "Python 3.10.4 64-bit",
   "language": "python",
   "name": "python3"
  },
  "language_info": {
   "codemirror_mode": {
    "name": "ipython",
    "version": 3
   },
   "file_extension": ".py",
   "mimetype": "text/x-python",
   "name": "python",
   "nbconvert_exporter": "python",
   "pygments_lexer": "ipython3",
   "version": "3.10.4"
  }
 },
 "nbformat": 4,
 "nbformat_minor": 4
}
